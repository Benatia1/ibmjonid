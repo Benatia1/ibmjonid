{
 "cells": [
  {
   "cell_type": "code",
   "execution_count": 5,
   "id": "caa09f89-3c87-4fb0-9da5-6190e9757178",
   "metadata": {},
   "outputs": [
    {
     "name": "stdout",
     "output_type": "stream",
     "text": [
      "Requirement already satisfied: qiskit in e:\\cours et tp epsi\\l1-eisi\\anaconda\\lib\\site-packages (1.3.2)\n",
      "Requirement already satisfied: qiskit_ibm_runtime in e:\\cours et tp epsi\\l1-eisi\\anaconda\\lib\\site-packages (0.36.1)\n",
      "Requirement already satisfied: rustworkx>=0.15.0 in e:\\cours et tp epsi\\l1-eisi\\anaconda\\lib\\site-packages (from qiskit) (0.16.0)\n",
      "Requirement already satisfied: numpy<3,>=1.17 in e:\\cours et tp epsi\\l1-eisi\\anaconda\\lib\\site-packages (from qiskit) (1.26.4)\n",
      "Requirement already satisfied: scipy>=1.5 in e:\\cours et tp epsi\\l1-eisi\\anaconda\\lib\\site-packages (from qiskit) (1.11.4)\n",
      "Requirement already satisfied: sympy>=1.3 in e:\\cours et tp epsi\\l1-eisi\\anaconda\\lib\\site-packages (from qiskit) (1.12)\n",
      "Requirement already satisfied: dill>=0.3 in e:\\cours et tp epsi\\l1-eisi\\anaconda\\lib\\site-packages (from qiskit) (0.3.7)\n",
      "Requirement already satisfied: python-dateutil>=2.8.0 in e:\\cours et tp epsi\\l1-eisi\\anaconda\\lib\\site-packages (from qiskit) (2.8.2)\n",
      "Requirement already satisfied: stevedore>=3.0.0 in e:\\cours et tp epsi\\l1-eisi\\anaconda\\lib\\site-packages (from qiskit) (5.4.0)\n",
      "Requirement already satisfied: typing-extensions in e:\\cours et tp epsi\\l1-eisi\\anaconda\\lib\\site-packages (from qiskit) (4.9.0)\n",
      "Requirement already satisfied: symengine<0.14,>=0.11 in e:\\cours et tp epsi\\l1-eisi\\anaconda\\lib\\site-packages (from qiskit) (0.13.0)\n",
      "Requirement already satisfied: requests>=2.19 in e:\\cours et tp epsi\\l1-eisi\\anaconda\\lib\\site-packages (from qiskit_ibm_runtime) (2.31.0)\n",
      "Requirement already satisfied: requests-ntlm>=1.1.0 in e:\\cours et tp epsi\\l1-eisi\\anaconda\\lib\\site-packages (from qiskit_ibm_runtime) (1.3.0)\n",
      "Requirement already satisfied: urllib3>=1.21.1 in e:\\cours et tp epsi\\l1-eisi\\anaconda\\lib\\site-packages (from qiskit_ibm_runtime) (2.3.0)\n",
      "Requirement already satisfied: websocket-client>=1.5.1 in e:\\cours et tp epsi\\l1-eisi\\anaconda\\lib\\site-packages (from qiskit_ibm_runtime) (1.8.0)\n",
      "Requirement already satisfied: ibm-platform-services>=0.22.6 in e:\\cours et tp epsi\\l1-eisi\\anaconda\\lib\\site-packages (from qiskit_ibm_runtime) (0.59.1)\n",
      "Requirement already satisfied: pydantic<2.10,>=2.5.0 in e:\\cours et tp epsi\\l1-eisi\\anaconda\\lib\\site-packages (from qiskit_ibm_runtime) (2.9.2)\n",
      "Requirement already satisfied: ibm_cloud_sdk_core<4.0.0,>=3.22.0 in e:\\cours et tp epsi\\l1-eisi\\anaconda\\lib\\site-packages (from ibm-platform-services>=0.22.6->qiskit_ibm_runtime) (3.22.1)\n",
      "Requirement already satisfied: annotated-types>=0.6.0 in e:\\cours et tp epsi\\l1-eisi\\anaconda\\lib\\site-packages (from pydantic<2.10,>=2.5.0->qiskit_ibm_runtime) (0.7.0)\n",
      "Requirement already satisfied: pydantic-core==2.23.4 in e:\\cours et tp epsi\\l1-eisi\\anaconda\\lib\\site-packages (from pydantic<2.10,>=2.5.0->qiskit_ibm_runtime) (2.23.4)\n",
      "Requirement already satisfied: six>=1.5 in e:\\cours et tp epsi\\l1-eisi\\anaconda\\lib\\site-packages (from python-dateutil>=2.8.0->qiskit) (1.16.0)\n",
      "Requirement already satisfied: charset-normalizer<4,>=2 in e:\\cours et tp epsi\\l1-eisi\\anaconda\\lib\\site-packages (from requests>=2.19->qiskit_ibm_runtime) (2.0.4)\n",
      "Requirement already satisfied: idna<4,>=2.5 in e:\\cours et tp epsi\\l1-eisi\\anaconda\\lib\\site-packages (from requests>=2.19->qiskit_ibm_runtime) (3.4)\n",
      "Requirement already satisfied: certifi>=2017.4.17 in e:\\cours et tp epsi\\l1-eisi\\anaconda\\lib\\site-packages (from requests>=2.19->qiskit_ibm_runtime) (2024.2.2)\n",
      "Requirement already satisfied: cryptography>=1.3 in e:\\cours et tp epsi\\l1-eisi\\anaconda\\lib\\site-packages (from requests-ntlm>=1.1.0->qiskit_ibm_runtime) (42.0.2)\n",
      "Requirement already satisfied: pyspnego>=0.4.0 in e:\\cours et tp epsi\\l1-eisi\\anaconda\\lib\\site-packages (from requests-ntlm>=1.1.0->qiskit_ibm_runtime) (0.11.2)\n",
      "Requirement already satisfied: pbr>=2.0.0 in e:\\cours et tp epsi\\l1-eisi\\anaconda\\lib\\site-packages (from stevedore>=3.0.0->qiskit) (6.1.1)\n",
      "Requirement already satisfied: mpmath>=0.19 in e:\\cours et tp epsi\\l1-eisi\\anaconda\\lib\\site-packages (from sympy>=1.3->qiskit) (1.3.0)\n",
      "Requirement already satisfied: cffi>=1.12 in e:\\cours et tp epsi\\l1-eisi\\anaconda\\lib\\site-packages (from cryptography>=1.3->requests-ntlm>=1.1.0->qiskit_ibm_runtime) (1.16.0)\n",
      "Requirement already satisfied: PyJWT<3.0.0,>=2.8.0 in e:\\cours et tp epsi\\l1-eisi\\anaconda\\lib\\site-packages (from ibm_cloud_sdk_core<4.0.0,>=3.22.0->ibm-platform-services>=0.22.6->qiskit_ibm_runtime) (2.10.1)\n",
      "Requirement already satisfied: setuptools in e:\\cours et tp epsi\\l1-eisi\\anaconda\\lib\\site-packages (from pbr>=2.0.0->stevedore>=3.0.0->qiskit) (68.2.2)\n",
      "Requirement already satisfied: sspilib>=0.1.0 in e:\\cours et tp epsi\\l1-eisi\\anaconda\\lib\\site-packages (from pyspnego>=0.4.0->requests-ntlm>=1.1.0->qiskit_ibm_runtime) (0.2.0)\n",
      "Requirement already satisfied: pycparser in e:\\cours et tp epsi\\l1-eisi\\anaconda\\lib\\site-packages (from cffi>=1.12->cryptography>=1.3->requests-ntlm>=1.1.0->qiskit_ibm_runtime) (2.21)\n"
     ]
    }
   ],
   "source": [
    "!pip install --upgrade qiskit qiskit_ibm_runtime\n"
   ]
  },
  {
   "cell_type": "code",
   "execution_count": 7,
   "id": "08dc1ae5-af18-46f7-b27f-711df739fc66",
   "metadata": {},
   "outputs": [
    {
     "name": "stdout",
     "output_type": "stream",
     "text": [
      "1.3.2\n"
     ]
    }
   ],
   "source": [
    "import qiskit\n",
    "print(qiskit.__version__)\n"
   ]
  },
  {
   "cell_type": "code",
   "execution_count": 10,
   "id": "c7858f19-b87e-4611-9da6-595df9f6c461",
   "metadata": {},
   "outputs": [],
   "source": [
    "from qiskit_ibm_runtime import QiskitRuntimeService\n",
    "\n",
    "# Remplace \"CLE_API\" par ta vraie clé API\n",
    "QiskitRuntimeService.save_account(\"CLE_API\", overwrite=True, channel=\"ibm_quantum\")\n",
    "\n",
    "# Charger le service IBM Quantum\n",
    "service = QiskitRuntimeService()\n"
   ]
  },
  {
   "cell_type": "code",
   "execution_count": 11,
   "id": "235d5f49-b46c-4cbd-aa01-1b7e8f603f89",
   "metadata": {},
   "outputs": [
    {
     "name": "stdout",
     "output_type": "stream",
     "text": [
      "[<IBMBackend('ibm_brisbane')>, <IBMBackend('ibm_kyiv')>, <IBMBackend('ibm_sherbrooke')>]\n"
     ]
    }
   ],
   "source": [
    "print(service.backends())\n"
   ]
  },
  {
   "cell_type": "code",
   "execution_count": 14,
   "id": "22a274a7-3861-46aa-a5bc-ae364d8ea2fd",
   "metadata": {},
   "outputs": [],
   "source": [
    "backend = service.backend(\"ibm_brisbane\") \n"
   ]
  },
  {
   "cell_type": "code",
   "execution_count": 18,
   "id": "4efc53b7-70d9-4ec1-9ae7-bab37bfbc4ec",
   "metadata": {},
   "outputs": [
    {
     "name": "stdout",
     "output_type": "stream",
     "text": [
      "[<IBMBackend('ibm_brisbane')>, <IBMBackend('ibm_kyiv')>, <IBMBackend('ibm_sherbrooke')>]\n"
     ]
    }
   ],
   "source": [
    "from qiskit_ibm_runtime import QiskitRuntimeService\n",
    "\n",
    "service = QiskitRuntimeService()\n",
    "print(service.backends())  # Liste des backends disponibles\n"
   ]
  },
  {
   "cell_type": "code",
   "execution_count": 20,
   "id": "77dcc3d5-18fc-4de6-acdc-1b1a93eb7f3a",
   "metadata": {},
   "outputs": [
    {
     "name": "stdout",
     "output_type": "stream",
     "text": [
      "Backends disponibles : [<IBMBackend('ibm_brisbane')>, <IBMBackend('ibm_kyiv')>, <IBMBackend('ibm_sherbrooke')>]\n",
      "Utilisation du backend : ibm_brisbane\n",
      "Job ID: cytw7pey2gd000885gsg\n"
     ]
    }
   ],
   "source": [
    "import os\n",
    "from qiskit import QuantumCircuit\n",
    "from qiskit_ibm_runtime import QiskitRuntimeService\n",
    "\n",
    "\n",
    "api_token = \"Api_Token\"\n",
    "\n",
    "\n",
    "\n",
    "service = QiskitRuntimeService(channel=\"ibm_quantum\", token=)\n",
    "\n",
    "\n",
    "available_backends = service.backends()\n",
    "print(\"Backends disponibles :\", available_backends)\n",
    "\n",
    "backend_name = available_backends[0].name\n",
    "\n",
    "\n",
    "qc = QuantumCircuit(1, 1)\n",
    "qc.h(0)\n",
    "qc.measure(0, 0)\n",
    "\n",
    "job = service._run(\n",
    "    program_id=\"sampler\",\n",
    "    options={\"backend\": backend_name},\n",
    "    inputs={\"circuits\": [qc], \"shots\": 1}\n",
    ")\n",
    "\n",
    "print(\"Job ID:\", job.job_id())"
   ]
  },
  {
   "cell_type": "code",
   "execution_count": null,
   "id": "998fc161-d380-45dc-a106-506670c20de5",
   "metadata": {},
   "outputs": [],
   "source": []
  }
 ],
 "metadata": {
  "kernelspec": {
   "display_name": "Python 3 (ipykernel)",
   "language": "python",
   "name": "python3"
  },
  "language_info": {
   "codemirror_mode": {
    "name": "ipython",
    "version": 3
   },
   "file_extension": ".py",
   "mimetype": "text/x-python",
   "name": "python",
   "nbconvert_exporter": "python",
   "pygments_lexer": "ipython3",
   "version": "3.11.7"
  }
 },
 "nbformat": 4,
 "nbformat_minor": 5
}
